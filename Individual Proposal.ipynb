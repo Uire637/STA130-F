{
 "cells": [
  {
   "cell_type": "markdown",
   "id": "ecd5a51f",
   "metadata": {},
   "source": [
    "# Individual Proposal\n",
    "\n",
    "The Covid-19 pandemic has significantly influenced individuals’ mental health and social behaviors. The CSCS dataset provides a rich source of information on protection methods, mental health, loneliness, and family support, offering an ideal research direction to analyze the relationships between these factors. This project aims to examine the potential connections between protective measures, life satisfaction, and social interaction using three kinds of analysis to reveal important factors affecting life quality.\n",
    "\n",
    "This proposal begins by describing the variables and analytical methods chosen for the subsequent study. Next, it presents the anticipated results and discusses how these findings could support the project objectives. Finally, if available, initial results will be included to provide additional context.\n",
    "\n",
    "---\n",
    "\n",
    "## QUESTION 1: Is there any relationship between the support from family and friends and the frequency of social interaction?\n",
    "\n",
    "### Description\n",
    "- **Social Support**  \n",
    "  - **Indicator**: `PSYCH_zimet_multidimensional_social_support_scale_family_helps`\n",
    "- **Social Frequency**  \n",
    "  - **Indicator**: `CONNECTION_activities_talked_day_p3m`\n",
    "\n",
    "### Analysis\n",
    "1. **Hypothesis Test**: Following the methods from Lecture 5, a two-sample t-test will be conducted by dividing participants into high and low social support groups (above or below 3 months) to compare the means of social frequency between these two groups.\n",
    "   - **Null Hypothesis (H₀)**: There is no significant relationship between social support and social frequency.\n",
    "   - **Alternative Hypothesis (Hₐ)**: There is a significant relationship between social support and social frequency.\n",
    "2. **Confidence Interval**: Construct a 95% confidence interval to estimate the mean social frequency for each group.\n",
    "\n",
    "### Possible Results\n",
    "- If the p-value from the hypothesis test is less than 0.05, and the mean social frequency is significantly higher in the high-support group, it would suggest a positive relationship between social support and social frequency.\n",
    "- If there is no overlap between the confidence intervals of the two groups, this can further indicate a significant difference in means.\n",
    "\n",
    "### Relevance\n",
    "This finding could suggest that family or friend support may encourage more frequent social interactions, highlighting the role of social support in maintaining social relationships.\n",
    "\n",
    "---\n",
    "\n",
    "## QUESTION 2: During the pandemic, does loneliness impact physical health more than social frequency?\n",
    "\n",
    "### Description\n",
    "- **Loneliness**  \n",
    "  - **Indicator**: `LONELY_ucla_loneliness_scale_score` (UCLA loneliness scale score) to assess the level of loneliness experienced by an individual.\n",
    "- **Social Frequency**  \n",
    "  - **Indicator**: `CONNECTION_activities_video_chat_p3m` (frequency of video chats in the past three months).\n",
    "- **Physical Health**  \n",
    "  - **Indicator**: `WELLNESS_self_rated_physical_health` (self-rated physical health score).\n",
    "\n",
    "### Analysis\n",
    "1. **Linear Regression Equation**: Set up a multiple linear regression model with physical health as the dependent variable and loneliness and social frequency as independent variables to compare their impacts.\n",
    "   - Model: `Physical Health = β₀ + β₁ * Loneliness + β₂ * Social Frequency + ε`\n",
    "2. **Bootstrapping**: To obtain robust estimates of the regression coefficients, Bootstrap sampling will be applied. Multiple samples will be taken from the original data, and regression analysis will be performed on each sample to calculate confidence intervals for the coefficients.\n",
    "\n",
    "### Possible Results\n",
    "- It may show that the regression coefficient for loneliness is more significant than that for social frequency, indicating that loneliness has a stronger impact on physical health during the pandemic.\n",
    "\n",
    "### Relevance\n",
    "This result would help in understanding the importance of mental factors like loneliness during the pandemic, emphasizing the need for targeted mental health support to improve physical health outcomes.\n",
    "\n",
    "---\n",
    "\n",
    "## Collaboration Note\n",
    "I would like to collaborate with **Bill Chen**. We are in the same tutorial and share similar research interests. Working together would allow us to combine our ideas and create a more comprehensive analysis for the project.\n"
   ]
  }
 ],
 "metadata": {
  "kernelspec": {
   "display_name": "Python 3 (ipykernel)",
   "language": "python",
   "name": "python3"
  },
  "language_info": {
   "codemirror_mode": {
    "name": "ipython",
    "version": 3
   },
   "file_extension": ".py",
   "mimetype": "text/x-python",
   "name": "python",
   "nbconvert_exporter": "python",
   "pygments_lexer": "ipython3",
   "version": "3.11.6"
  }
 },
 "nbformat": 4,
 "nbformat_minor": 5
}
